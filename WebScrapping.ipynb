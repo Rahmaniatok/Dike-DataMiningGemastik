{
 "cells": [
  {
   "cell_type": "code",
   "execution_count": 79,
   "metadata": {},
   "outputs": [
    {
     "name": "stdout",
     "output_type": "stream",
     "text": [
      "Requirement already satisfied: selenium in c:\\users\\seseo\\appdata\\local\\programs\\python\\python38\\lib\\site-packages (4.21.0)\n",
      "Requirement already satisfied: urllib3<3,>=1.26 in c:\\users\\seseo\\appdata\\local\\programs\\python\\python38\\lib\\site-packages (from urllib3[socks]<3,>=1.26->selenium) (2.1.0)\n",
      "Requirement already satisfied: trio~=0.17 in c:\\users\\seseo\\appdata\\local\\programs\\python\\python38\\lib\\site-packages (from selenium) (0.25.1)\n",
      "Requirement already satisfied: trio-websocket~=0.9 in c:\\users\\seseo\\appdata\\local\\programs\\python\\python38\\lib\\site-packages (from selenium) (0.11.1)\n",
      "Requirement already satisfied: certifi>=2021.10.8 in c:\\users\\seseo\\appdata\\local\\programs\\python\\python38\\lib\\site-packages (from selenium) (2023.11.17)\n",
      "Requirement already satisfied: typing_extensions>=4.9.0 in c:\\users\\seseo\\appdata\\local\\programs\\python\\python38\\lib\\site-packages (from selenium) (4.12.0)\n",
      "Requirement already satisfied: attrs>=23.2.0 in c:\\users\\seseo\\appdata\\local\\programs\\python\\python38\\lib\\site-packages (from trio~=0.17->selenium) (23.2.0)\n",
      "Requirement already satisfied: sortedcontainers in c:\\users\\seseo\\appdata\\local\\programs\\python\\python38\\lib\\site-packages (from trio~=0.17->selenium) (2.4.0)\n",
      "Requirement already satisfied: idna in c:\\users\\seseo\\appdata\\local\\programs\\python\\python38\\lib\\site-packages (from trio~=0.17->selenium) (3.6)\n",
      "Requirement already satisfied: outcome in c:\\users\\seseo\\appdata\\local\\programs\\python\\python38\\lib\\site-packages (from trio~=0.17->selenium) (1.3.0.post0)\n",
      "Requirement already satisfied: sniffio>=1.3.0 in c:\\users\\seseo\\appdata\\local\\programs\\python\\python38\\lib\\site-packages (from trio~=0.17->selenium) (1.3.1)\n",
      "Requirement already satisfied: cffi>=1.14 in c:\\users\\seseo\\appdata\\local\\programs\\python\\python38\\lib\\site-packages (from trio~=0.17->selenium) (1.16.0)\n",
      "Requirement already satisfied: exceptiongroup in c:\\users\\seseo\\appdata\\local\\programs\\python\\python38\\lib\\site-packages (from trio~=0.17->selenium) (1.2.1)\n",
      "Requirement already satisfied: wsproto>=0.14 in c:\\users\\seseo\\appdata\\local\\programs\\python\\python38\\lib\\site-packages (from trio-websocket~=0.9->selenium) (1.2.0)\n",
      "Requirement already satisfied: pysocks!=1.5.7,<2.0,>=1.5.6 in c:\\users\\seseo\\appdata\\local\\programs\\python\\python38\\lib\\site-packages (from urllib3[socks]<3,>=1.26->selenium) (1.7.1)\n",
      "Requirement already satisfied: pycparser in c:\\users\\seseo\\appdata\\local\\programs\\python\\python38\\lib\\site-packages (from cffi>=1.14->trio~=0.17->selenium) (2.22)\n",
      "Requirement already satisfied: h11<1,>=0.9.0 in c:\\users\\seseo\\appdata\\local\\programs\\python\\python38\\lib\\site-packages (from wsproto>=0.14->trio-websocket~=0.9->selenium) (0.14.0)\n",
      "Note: you may need to restart the kernel to use updated packages.\n"
     ]
    },
    {
     "name": "stderr",
     "output_type": "stream",
     "text": [
      "\n",
      "[notice] A new release of pip is available: 23.3.1 -> 24.0\n",
      "[notice] To update, run: python.exe -m pip install --upgrade pip\n"
     ]
    }
   ],
   "source": [
    "pip install selenium"
   ]
  },
  {
   "cell_type": "code",
   "execution_count": 80,
   "metadata": {},
   "outputs": [],
   "source": [
    "from selenium import webdriver\n",
    "from selenium.webdriver.common.by import By\n",
    "from selenium.webdriver.support.ui import WebDriverWait\n",
    "from selenium.webdriver.support import expected_conditions as EC\n",
    "from selenium.webdriver.chrome.options import Options\n",
    "from selenium.webdriver.common.action_chains import ActionChains\n",
    "from selenium.webdriver.chrome.service import Service\n",
    "from selenium.webdriver.common.by import By\n",
    "import time"
   ]
  },
  {
   "cell_type": "code",
   "execution_count": 81,
   "metadata": {},
   "outputs": [],
   "source": [
    "\n",
    "class WebDriver:\n",
    "\n",
    "  location_data = {}\n",
    "\n",
    "  def __init__(self):\n",
    "\n",
    "    self.PATH = \"chromedriver.exe\"\n",
    "    service = Service(executable_path=r'\"C:\\Users\\seseo\\chromedriver-win32\\chromedriver.exe\"')\n",
    "    # options = webdriver.ChromeOptions()\n",
    "#   Try adding this line if you get the error of chrome chrashed\n",
    "#   self.options.binary_location = \"C:/Program Files (x86)/Google/Chrome/Application/chrome.exe\"\n",
    "    # self.options.add_argument(\"--headless\")\n",
    "    # self.options.add_argument('--no-sandbox')\n",
    "    # self.options.add_argument('--disable-dev-shm-usage')\n",
    "    self.driver = webdriver.Chrome()\n",
    "    self.driver.get(\"https://www.google.com/maps/place/Beringharjo+Market/@-7.7988067,110.3631622,17z/data=!3m2!4b1!5s0x2e7a57862ad2ee45:0xde643eb81b63559!4m6!3m5!1s0x2e7af7fe02ca3761:0x39ebbc4df90b410c!8m2!3d-7.798812!4d110.3657371!16s%2Fg%2F120spzl7?entry=ttu\")\n",
    "\n",
    "    self.location_data[\"rating\"] = \"NA\"\n",
    "    self.location_data[\"reviews_count\"] = \"NA\"\n",
    "    self.location_data[\"location\"] = \"NA\"\n",
    "    self.location_data[\"contact\"] = \"NA\"\n",
    "    self.location_data[\"website\"] = \"NA\"\n",
    "    self.location_data[\"Time\"] = {\"Monday\":\"NA\", \"Tuesday\":\"NA\", \"Wednesday\":\"NA\", \"Thursday\":\"NA\", \"Friday\":\"NA\", \"Saturday\":\"NA\", \"Sunday\":\"NA\"}\n",
    "    self.location_data[\"Reviews\"] = []\n",
    "    self.location_data[\"Popular Times\"] = {\"Monday\":[], \"Tuesday\":[], \"Wednesday\":[], \"Thursday\":[], \"Friday\":[], \"Saturday\":[], \"Sunday\":[]}\n",
    "\n",
    "  def click_all_reviews_button(self):\n",
    "    try:\n",
    "      WebDriverWait(self.driver, 20).until(EC.presence_of_element_located((By.CLASS_NAME, \"allxGeDnJMl__button\")))\n",
    "\n",
    "      element = self.driver.find_element(By.CLASS_NAME,\"allxGeDnJMl__button\")\n",
    "      element.click()\n",
    "\n",
    "    except:\n",
    "      self.driver.quit()\n",
    "      return False\n",
    "\n",
    "    return True\n",
    "  def scroll_the_page(self):\n",
    "    try:\n",
    "      WebDriverWait(self.driver, 10).until(EC.presence_of_element_located((By.CLASS_NAME, \"section-layout-root\"))) # Waits for the page to load.\n",
    "      pause_time = 2 # Waiting time after each scroll.\n",
    "      max_count = 5 # Number of times we will scroll the scroll bar to the bottom.\n",
    "      x = 0\n",
    "\n",
    "      while(x<max_count):\n",
    "        scrollable_div = self.driver.find_element(By.CSS_SELECTOR,'div.section-layout.section-scrollbox.scrollable-y.scrollable-show') # It gets the section of the scroll bar.\n",
    "        try:\n",
    "          self.driver.execute_script('arguments[0].scrollTop = arguments[0].scrollHeight', scrollable_div) # Scroll it to the bottom.\n",
    "        except:\n",
    "          pass\n",
    "\n",
    "        time.sleep(pause_time) # wait for more reviews to load.\n",
    "        x=x+1\n",
    "\n",
    "    except:\n",
    "      self.driver.quit()\n",
    "  def expand_all_reviews(self):\n",
    "    try:\n",
    "      element = self.driver.find_elements(By.CLASS_NAME,\"section-expand-review\")\n",
    "      for i in element:\n",
    "        i.click()\n",
    "    except:\n",
    "      pass\n",
    "  def get_reviews_data(self):\n",
    "\n",
    "    try:\n",
    "      review_names = self.driver.find_elements(By.CLASS_NAME,\"section-review-title\") # Its a list of all the HTML sections with the reviewer name.\n",
    "      review_text = self.driver.find_elements(By.CLASS_NAME,\"section-review-review-content\") # Its a list of all the HTML sections with the reviewer reviews.\n",
    "      review_dates = self.driver.find_elements(By.CSS_SELECTOR,\"[class='section-review-publish-date']\") # Its a list of all the HTML sections with the reviewer reviewed date.\n",
    "      review_stars = self.driver.find_elements(By.CSS_SELECTOR,\"[class='section-review-stars']\") # Its a list of all the HTML sections with the reviewer rating.\n",
    "\n",
    "      review_stars_final = []\n",
    "\n",
    "      for i in review_stars:\n",
    "        review_stars_final.append(i.get_attribute(\"aria-label\"))\n",
    "\n",
    "      review_names_list = [a.text for a in review_names]\n",
    "      review_text_list = [a.text for a in review_text]\n",
    "      review_dates_list = [a.text for a in review_dates]\n",
    "      review_stars_list = [a for a in review_stars_final]\n",
    "\n",
    "\n",
    "      for (a,b,c,d) in zip(review_names_list, review_text_list, review_dates_list, review_stars_list):\n",
    "        self.location_data[\"Reviews\"].append({\"name\":a, \"review\":b, \"date\":c, \"rating\":d})\n",
    "\n",
    "    except Exception as e:\n",
    "      pass\n",
    "  def scrape(self, url): # Passed the URL as a variable\n",
    "    try:\n",
    "      self.driver.get(url) # Get is a method that will tell the driver to open at that particular URL\n",
    "\n",
    "    except Exception as e:\n",
    "      self.driver.quit()\n",
    "      return\n",
    "\n",
    "    time.sleep(10) # Waiting for the page to load.\n",
    "\n",
    "    \n",
    "    if(self.click_all_reviews_button()==False): # Clicking the all reviews button and redirecting the driver to the all reviews page.\n",
    "      return(self.location_data)\n",
    "\n",
    "    time.sleep(5) # Waiting for the all reviews page to load.\n",
    "\n",
    "    self.scroll_the_page() # Scrolling the page to load all reviews.\n",
    "    self.expand_all_reviews() # Expanding the long reviews by clicking see more button in each review.\n",
    "    self.get_reviews_data() # Getting all the reviews data.\n",
    "\n",
    "    self.driver.quit() # Closing the driver instance.\n",
    "\n",
    "    return(self.location_data) # Returning the Scraped Data.\n",
    "  def print_reviews(self):\n",
    "    reviews = self.location_data[\"Reviews\"]\n",
    "    if not reviews:\n",
    "        print(\"No reviews found.\")\n",
    "    else:\n",
    "        for review in reviews:\n",
    "            print(f\"Author: {review['author']}\")\n",
    "            print(f\"Rating: {review['rating']}\")\n",
    "            print(f\"Text: {review['text']}\")\n",
    "            print(\"-----\")"
   ]
  },
  {
   "cell_type": "code",
   "execution_count": null,
   "metadata": {},
   "outputs": [],
   "source": []
  },
  {
   "cell_type": "code",
   "execution_count": null,
   "metadata": {},
   "outputs": [],
   "source": []
  },
  {
   "cell_type": "code",
   "execution_count": null,
   "metadata": {},
   "outputs": [],
   "source": []
  },
  {
   "cell_type": "code",
   "execution_count": null,
   "metadata": {},
   "outputs": [],
   "source": []
  },
  {
   "cell_type": "code",
   "execution_count": null,
   "metadata": {},
   "outputs": [],
   "source": []
  },
  {
   "cell_type": "code",
   "execution_count": 82,
   "metadata": {},
   "outputs": [
    {
     "name": "stdout",
     "output_type": "stream",
     "text": [
      "<__main__.WebDriver object at 0x000001DC68446A00>\n"
     ]
    }
   ],
   "source": [
    "url = \"https://www.google.com/maps/place/Beringharjo+Market/@-7.7988067,110.3631622,17z/data=!3m1!5s0x2e7a57862ad2ee45:0xde643eb81b63559!4m16!1m9!3m8!1s0x2e7af7fe02ca3761:0x39ebbc4df90b410c!2sBeringharjo+Market!8m2!3d-7.798812!4d110.3657371!9m1!1b1!16s%2Fg%2F120spzl7!3m5!1s0x2e7af7fe02ca3761:0x39ebbc4df90b410c!8m2!3d-7.798812!4d110.3657371!16s%2Fg%2F120spzl7?entry=ttu\"\n",
    "x = WebDriver()\n",
    "print(x)"
   ]
  },
  {
   "cell_type": "code",
   "execution_count": 83,
   "metadata": {},
   "outputs": [
    {
     "name": "stdout",
     "output_type": "stream",
     "text": [
      "No reviews found.\n"
     ]
    }
   ],
   "source": [
    "x.print_reviews()"
   ]
  },
  {
   "cell_type": "code",
   "execution_count": null,
   "metadata": {},
   "outputs": [],
   "source": []
  }
 ],
 "metadata": {
  "kernelspec": {
   "display_name": "Python 3",
   "language": "python",
   "name": "python3"
  },
  "language_info": {
   "codemirror_mode": {
    "name": "ipython",
    "version": 3
   },
   "file_extension": ".py",
   "mimetype": "text/x-python",
   "name": "python",
   "nbconvert_exporter": "python",
   "pygments_lexer": "ipython3",
   "version": "3.8.7"
  }
 },
 "nbformat": 4,
 "nbformat_minor": 2
}
